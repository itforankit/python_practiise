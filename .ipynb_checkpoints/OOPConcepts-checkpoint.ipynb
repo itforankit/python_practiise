{
 "cells": [
  {
   "cell_type": "code",
   "execution_count": 1,
   "id": "924428a3",
   "metadata": {},
   "outputs": [],
   "source": [
    "class student():\n",
    "    def greet(self,name):\n",
    "        print('Welcome ', name)"
   ]
  },
  {
   "cell_type": "code",
   "execution_count": 3,
   "id": "b777ac40",
   "metadata": {},
   "outputs": [
    {
     "name": "stdout",
     "output_type": "stream",
     "text": [
      "Welcome  ankit\n"
     ]
    }
   ],
   "source": [
    "x=student();\n",
    "x.greet(\"ankit\")"
   ]
  },
  {
   "cell_type": "code",
   "execution_count": null,
   "id": "860c9247",
   "metadata": {},
   "outputs": [],
   "source": []
  }
 ],
 "metadata": {
  "kernelspec": {
   "display_name": "Python 3 (ipykernel)",
   "language": "python",
   "name": "python3"
  },
  "language_info": {
   "codemirror_mode": {
    "name": "ipython",
    "version": 3
   },
   "file_extension": ".py",
   "mimetype": "text/x-python",
   "name": "python",
   "nbconvert_exporter": "python",
   "pygments_lexer": "ipython3",
   "version": "3.11.5"
  }
 },
 "nbformat": 4,
 "nbformat_minor": 5
}
