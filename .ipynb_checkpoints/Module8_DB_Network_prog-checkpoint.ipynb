{
 "cells": [
  {
   "cell_type": "code",
   "execution_count": 6,
   "id": "de970097",
   "metadata": {},
   "outputs": [],
   "source": [
    "import pymysql"
   ]
  },
  {
   "cell_type": "code",
   "execution_count": 5,
   "id": "2e3837ef",
   "metadata": {},
   "outputs": [
    {
     "name": "stdout",
     "output_type": "stream",
     "text": [
      "Collecting pymysql\n",
      "  Obtaining dependency information for pymysql from https://files.pythonhosted.org/packages/e5/30/20467e39523d0cfc2b6227902d3687a16364307260c75e6a1cb4422b0c62/PyMySQL-1.1.0-py3-none-any.whl.metadata\n",
      "  Downloading PyMySQL-1.1.0-py3-none-any.whl.metadata (4.4 kB)\n",
      "Downloading PyMySQL-1.1.0-py3-none-any.whl (44 kB)\n",
      "   ---------------------------------------- 0.0/44.8 kB ? eta -:--:--\n",
      "   ---------------------------------------- 44.8/44.8 kB 734.6 kB/s eta 0:00:00\n",
      "Installing collected packages: pymysql\n",
      "Successfully installed pymysql-1.1.0\n"
     ]
    }
   ],
   "source": [
    "#!pip install pymysql"
   ]
  },
  {
   "cell_type": "code",
   "execution_count": 44,
   "id": "414bb3cd",
   "metadata": {},
   "outputs": [],
   "source": [
    "db=pymysql.connect(host=\"127.0.0.1\",user=\"testuser\",password=\"test@123\",database=\"testdb\")"
   ]
  },
  {
   "cell_type": "code",
   "execution_count": 45,
   "id": "3391a396",
   "metadata": {},
   "outputs": [],
   "source": [
    "cursor=db.cursor()"
   ]
  },
  {
   "cell_type": "code",
   "execution_count": 15,
   "id": "a87fcd0d",
   "metadata": {},
   "outputs": [
    {
     "data": {
      "text/plain": [
       "0"
      ]
     },
     "execution_count": 15,
     "metadata": {},
     "output_type": "execute_result"
    }
   ],
   "source": [
    "cursor.execute(\"drop table if exists Employee\")"
   ]
  },
  {
   "cell_type": "code",
   "execution_count": 26,
   "id": "c4b04773",
   "metadata": {},
   "outputs": [
    {
     "name": "stdout",
     "output_type": "stream",
     "text": [
      "create table Employee(\n",
      "    First_Name char(20) Not Null,\n",
      "    Last_Name Char(20),\n",
      "    Age Int,\n",
      "    Sex Char(1),\n",
      "    Income Float)\n"
     ]
    }
   ],
   "source": [
    "sql=\"\"\"create table Employee(\n",
    "    First_Name char(20) Not Null,\n",
    "    Last_Name Char(20),\n",
    "    Age Int,\n",
    "    Sex Char(1),\n",
    "    Income Float)\"\"\"\n",
    "\n",
    "print(sql)"
   ]
  },
  {
   "cell_type": "code",
   "execution_count": 18,
   "id": "fc6dd4fb",
   "metadata": {},
   "outputs": [
    {
     "data": {
      "text/plain": [
       "0"
      ]
     },
     "execution_count": 18,
     "metadata": {},
     "output_type": "execute_result"
    }
   ],
   "source": [
    "cursor.execute(sql)"
   ]
  },
  {
   "cell_type": "code",
   "execution_count": 19,
   "id": "a44faa78",
   "metadata": {},
   "outputs": [],
   "source": []
  },
  {
   "cell_type": "code",
   "execution_count": 35,
   "id": "5d654492",
   "metadata": {},
   "outputs": [
    {
     "name": "stdout",
     "output_type": "stream",
     "text": [
      "Insert into Employee( First_Name,Last_Name,Age,Sex,Income) values ('Gaurav','Singhal',39,'M',100000)\n"
     ]
    }
   ],
   "source": [
    "sql=\"\"\n",
    "sql=\"\"\"Insert into Employee( First_Name,Last_Name,Age,Sex,Income) values ('Gaurav','Singhal',39,'M',100000)\"\"\"\n",
    "print(sql)"
   ]
  },
  {
   "cell_type": "code",
   "execution_count": 36,
   "id": "a208cd1a",
   "metadata": {},
   "outputs": [],
   "source": [
    "try:\n",
    "    cursor.execute(sql)\n",
    "    db.commit()\n",
    "except:\n",
    "    db.rollback()\n",
    "\n",
    "#db.close()"
   ]
  },
  {
   "cell_type": "code",
   "execution_count": 52,
   "id": "bae3e540",
   "metadata": {},
   "outputs": [
    {
     "name": "stdout",
     "output_type": "stream",
     "text": [
      "select * from Employee where Age > 38\n",
      "a\n",
      "b\n",
      "(('Ankit', 'Singhal', 42, 'M', 200000.0), ('Gaurav', 'Singhal', 39, 'M', 100000.0))\n",
      "c\n",
      "fname = Ankit, lname = Singhal, age = 42, sex =M, income = 200000\n",
      "c\n",
      "fname = Gaurav, lname = Singhal, age = 39, sex =M, income = 100000\n"
     ]
    }
   ],
   "source": [
    "sql=\"select * from Employee where Age > %d\" % (38)\n",
    "print(sql)\n",
    "#try:\n",
    "cursor.execute(sql)\n",
    "print(\"a\")\n",
    "results = cursor.fetchall()\n",
    "print(\"b\")\n",
    "print(results)\n",
    "for row in results:\n",
    "    print(\"c\")\n",
    "    fname =row[0]\n",
    "    lname =row[1]\n",
    "    age = row[2]\n",
    "    sex =row[3]\n",
    "    income =row[4]\n",
    "    print(\"fname = %s, lname = %s, age = %d, sex =%s, income = %d\" % (fname,lname,age,sex,income))\n",
    "#except:\n",
    "#    print (\"Error : unable to fetch data\")\n"
   ]
  },
  {
   "cell_type": "code",
   "execution_count": 53,
   "id": "c04e6b68",
   "metadata": {},
   "outputs": [],
   "source": [
    "import socket"
   ]
  },
  {
   "cell_type": "code",
   "execution_count": 54,
   "id": "199885e7",
   "metadata": {},
   "outputs": [
    {
     "name": "stdout",
     "output_type": "stream",
     "text": [
      "Ankit-Legion\n"
     ]
    }
   ],
   "source": [
    "s=socket.socket()\n",
    "host=socket.gethostname()\n",
    "print(host)\n",
    "port=12345\n",
    "s.bind((host,port))"
   ]
  },
  {
   "cell_type": "code",
   "execution_count": null,
   "id": "01e933c2",
   "metadata": {},
   "outputs": [
    {
     "name": "stdout",
     "output_type": "stream",
     "text": [
      "Got connnection from  ('192.168.1.13', 55214)\n"
     ]
    }
   ],
   "source": [
    "s.listen(5)\n",
    "while True:\n",
    "    c,addr=s.accept()\n",
    "    print('Got connnection from ' , addr)\n",
    "    output= (\"Thank you for conencting\")\n",
    "    c.sendall(output.encode('utf-8'))\n",
    "    c.close()"
   ]
  },
  {
   "cell_type": "code",
   "execution_count": null,
   "id": "9480dace",
   "metadata": {},
   "outputs": [],
   "source": []
  },
  {
   "cell_type": "code",
   "execution_count": null,
   "id": "4bf8c99d",
   "metadata": {},
   "outputs": [],
   "source": []
  }
 ],
 "metadata": {
  "kernelspec": {
   "display_name": "Python 3 (ipykernel)",
   "language": "python",
   "name": "python3"
  },
  "language_info": {
   "codemirror_mode": {
    "name": "ipython",
    "version": 3
   },
   "file_extension": ".py",
   "mimetype": "text/x-python",
   "name": "python",
   "nbconvert_exporter": "python",
   "pygments_lexer": "ipython3",
   "version": "3.11.5"
  }
 },
 "nbformat": 4,
 "nbformat_minor": 5
}
