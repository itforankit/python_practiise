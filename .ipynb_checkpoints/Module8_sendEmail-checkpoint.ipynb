{
 "cells": [
  {
   "cell_type": "code",
   "execution_count": 7,
   "id": "32ea0152",
   "metadata": {},
   "outputs": [],
   "source": [
    "import smtplib,ssl\n",
    "from email.mime.multipart import MIMEMultipart\n",
    "from email.mime.text import MIMEText\n",
    "\n",
    "import time\n",
    "from time import asctime"
   ]
  },
  {
   "cell_type": "code",
   "execution_count": 13,
   "id": "23794f02",
   "metadata": {},
   "outputs": [
    {
     "name": "stdout",
     "output_type": "stream",
     "text": [
      "Hi, This is Ankit Singhal, test mail from Phton script\n"
     ]
    }
   ],
   "source": [
    "fromaddr =\"itforankit@gmail.com\"\n",
    "toaddr =\"itforankit@yahoo.com\"\n",
    "msg =MIMEMultipart()\n",
    "msg['From'] = fromaddr\n",
    "msg['Tpp'] = toaddr\n",
    "msg['Subject'] =\"From Ankit Singhal\"\n",
    "message= \"Hi, This is Ankit Singhal, test mail from Phton script\"\n",
    "print(message)\n",
    "msg.attach(MIMEText(message,'plain'))\n",
    "text=msg.as_string()\n",
    "\n",
    "# Create a secure SSL context\n",
    "context = ssl.create_default_context()\n",
    "\n",
    "with smtplib.SMTP_SSL(\"smtp.gmail.com\", 465, context=context) as server:\n",
    "    server.login(fromaddr, \"sjhl ivrr hgnw qkkn\")\n",
    "   # message = f\"Subject: {subject}\\n\\n{body}\"\n",
    "    server.sendmail(toaddr, fromaddr, text)\n",
    "\n",
    "#server=smtplib.SMTP('smtp.gmail.com',25)\n",
    "#server.starttls()\n",
    "#server.login(fromaddr,\"Mohan@082023\")\n",
    "\n",
    "#server.sendmail(fromaddr,toaddr,text)\n",
    "#server.quit()\n"
   ]
  },
  {
   "cell_type": "code",
   "execution_count": null,
   "id": "4fd5c19a",
   "metadata": {},
   "outputs": [],
   "source": []
  },
  {
   "cell_type": "code",
   "execution_count": null,
   "id": "fac291ea",
   "metadata": {},
   "outputs": [],
   "source": []
  },
  {
   "cell_type": "code",
   "execution_count": null,
   "id": "ad55e055",
   "metadata": {},
   "outputs": [],
   "source": []
  },
  {
   "cell_type": "code",
   "execution_count": null,
   "id": "cf7055ac",
   "metadata": {},
   "outputs": [],
   "source": []
  }
 ],
 "metadata": {
  "kernelspec": {
   "display_name": "Python 3 (ipykernel)",
   "language": "python",
   "name": "python3"
  },
  "language_info": {
   "codemirror_mode": {
    "name": "ipython",
    "version": 3
   },
   "file_extension": ".py",
   "mimetype": "text/x-python",
   "name": "python",
   "nbconvert_exporter": "python",
   "pygments_lexer": "ipython3",
   "version": "3.11.5"
  }
 },
 "nbformat": 4,
 "nbformat_minor": 5
}
